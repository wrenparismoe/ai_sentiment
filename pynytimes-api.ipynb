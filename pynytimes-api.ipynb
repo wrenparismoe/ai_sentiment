{
 "cells": [
  {
   "cell_type": "code",
   "execution_count": 1,
   "metadata": {},
   "outputs": [],
   "source": [
    "import pandas as pd\n",
    "from pynytimes import NYTAPI\n",
    "NYT_API_KEY='e1RpBU3JBdcJ0dWyz6mB61EiXWG1DsM8'"
   ]
  },
  {
   "cell_type": "code",
   "execution_count": 2,
   "metadata": {},
   "outputs": [],
   "source": [
    "nyt = NYTAPI(NYT_API_KEY, parse_dates=True)"
   ]
  },
  {
   "cell_type": "code",
   "execution_count": 3,
   "metadata": {},
   "outputs": [],
   "source": [
    "data = pd.read_csv('data/ai-perception.csv')"
   ]
  },
  {
   "cell_type": "code",
   "execution_count": 4,
   "metadata": {},
   "outputs": [
    {
     "name": "stdout",
     "output_type": "stream",
     "text": [
      "LONG ISLAND JOURNAL\n"
     ]
    }
   ],
   "source": [
    "article_title = data['Title'][0]\n",
    "print(article_title)\n",
    "article_paragraph = data[data['Title'] == article_title]['Paragraph'].values[0]"
   ]
  },
  {
   "cell_type": "code",
   "execution_count": 5,
   "metadata": {},
   "outputs": [],
   "source": [
    "query = nyt.article_search(query=article_title, results=1)"
   ]
  },
  {
   "cell_type": "code",
   "execution_count": 6,
   "metadata": {},
   "outputs": [
    {
     "name": "stdout",
     "output_type": "stream",
     "text": [
      "dict_keys(['abstract', 'web_url', 'snippet', 'lead_paragraph', 'print_section', 'print_page', 'source', 'multimedia', 'headline', 'keywords', 'pub_date', 'document_type', 'news_desk', 'section_name', 'byline', 'type_of_material', '_id', 'word_count', 'uri'])\n"
     ]
    }
   ],
   "source": [
    "# print query keys\n",
    "print(query[0].keys())"
   ]
  },
  {
   "cell_type": "code",
   "execution_count": 7,
   "metadata": {},
   "outputs": [
    {
     "data": {
      "text/plain": [
       "{'abstract': \"Long Island Journal notes controversy in Oakdale over roadside memorial to two teenagers killed in car crash; photo; Patchogue's new regulation of outdoor pay phones also noted (S)\",\n",
       " 'web_url': 'https://www.nytimes.com/1996/12/29/nyregion/long-island-journal-882046.html',\n",
       " 'snippet': \"Long Island Journal notes controversy in Oakdale over roadside memorial to two teenagers killed in car crash; photo; Patchogue's new regulation of outdoor pay phones also noted (S)\",\n",
       " 'lead_paragraph': 'Memorial Mired in Dispute',\n",
       " 'print_section': 'LI',\n",
       " 'print_page': '13',\n",
       " 'source': 'The New York Times',\n",
       " 'multimedia': [],\n",
       " 'headline': {'main': 'LONG ISLAND JOURNAL',\n",
       "  'kicker': 'LONG ISLAND JOURNAL',\n",
       "  'content_kicker': None,\n",
       "  'print_headline': 'LONG ISLAND JOURNAL',\n",
       "  'name': None,\n",
       "  'seo': None,\n",
       "  'sub': None},\n",
       " 'keywords': [{'name': 'glocations',\n",
       "   'value': 'Long Island (NY)',\n",
       "   'rank': 1,\n",
       "   'major': 'N'},\n",
       "  {'name': 'glocations', 'value': 'Oakdale (NY)', 'rank': 2, 'major': 'N'},\n",
       "  {'name': 'glocations', 'value': 'Patchogue (NY)', 'rank': 3, 'major': 'N'},\n",
       "  {'name': 'subject',\n",
       "   'value': 'Accidents and Safety',\n",
       "   'rank': 4,\n",
       "   'major': 'N'},\n",
       "  {'name': 'subject', 'value': 'Roads and Traffic', 'rank': 5, 'major': 'N'},\n",
       "  {'name': 'subject', 'value': 'Children and Youth', 'rank': 6, 'major': 'N'},\n",
       "  {'name': 'subject',\n",
       "   'value': 'Monuments and Memorials',\n",
       "   'rank': 7,\n",
       "   'major': 'N'},\n",
       "  {'name': 'subject',\n",
       "   'value': 'Telephones and Telecommunications',\n",
       "   'rank': 8,\n",
       "   'major': 'N'},\n",
       "  {'name': 'subject',\n",
       "   'value': 'Drunken and Reckless Driving',\n",
       "   'rank': 9,\n",
       "   'major': 'N'}],\n",
       " 'pub_date': datetime.datetime(1996, 12, 29, 5, 0, tzinfo=datetime.timezone.utc),\n",
       " 'document_type': 'article',\n",
       " 'news_desk': 'Long Island Weekly Desk',\n",
       " 'section_name': 'New York',\n",
       " 'byline': {'original': 'By Diane Ketcham',\n",
       "  'person': [{'firstname': 'Diane',\n",
       "    'middlename': None,\n",
       "    'lastname': 'Ketcham',\n",
       "    'qualifier': None,\n",
       "    'title': None,\n",
       "    'role': 'reported',\n",
       "    'organization': '',\n",
       "    'rank': 1}],\n",
       "  'organization': None},\n",
       " 'type_of_material': 'News',\n",
       " '_id': 'nyt://article/f3c435d7-9159-55aa-a8ea-7a3504e80992',\n",
       " 'word_count': 1046,\n",
       " 'uri': 'nyt://article/f3c435d7-9159-55aa-a8ea-7a3504e80992'}"
      ]
     },
     "execution_count": 7,
     "metadata": {},
     "output_type": "execute_result"
    }
   ],
   "source": [
    "query[0]"
   ]
  },
  {
   "cell_type": "code",
   "execution_count": 8,
   "metadata": {},
   "outputs": [
    {
     "ename": "KeyboardInterrupt",
     "evalue": "",
     "output_type": "error",
     "traceback": [
      "\u001b[0;31m---------------------------------------------------------------------------\u001b[0m",
      "\u001b[0;31mKeyboardInterrupt\u001b[0m                         Traceback (most recent call last)",
      "Cell \u001b[0;32mIn[8], line 4\u001b[0m\n\u001b[1;32m      1\u001b[0m \u001b[39m# query[0]['headline']['main']\u001b[39;00m\n\u001b[1;32m      2\u001b[0m url \u001b[39m=\u001b[39m query[\u001b[39m0\u001b[39m][\u001b[39m'\u001b[39m\u001b[39mweb_url\u001b[39m\u001b[39m'\u001b[39m]\n\u001b[0;32m----> 4\u001b[0m metadata \u001b[39m=\u001b[39m nyt\u001b[39m.\u001b[39;49marticle_metadata(url)\n\u001b[1;32m      5\u001b[0m metadata\n",
      "File \u001b[0;32m~/.pyenv/versions/3.11.4/envs/venv-data/lib/python3.11/site-packages/pynytimes/api.py:521\u001b[0m, in \u001b[0;36mNYTAPI.article_metadata\u001b[0;34m(self, url)\u001b[0m\n\u001b[1;32m    516\u001b[0m options \u001b[39m=\u001b[39m article_metadata_set_url(url)\n\u001b[1;32m    518\u001b[0m \u001b[39m# Load, parse and return the data\u001b[39;00m\n\u001b[1;32m    519\u001b[0m result \u001b[39m=\u001b[39m cast(\n\u001b[1;32m    520\u001b[0m     \u001b[39mlist\u001b[39m[\u001b[39mdict\u001b[39m[\u001b[39mstr\u001b[39m, Any]],\n\u001b[0;32m--> 521\u001b[0m     \u001b[39mself\u001b[39;49m\u001b[39m.\u001b[39;49m__load_data(url\u001b[39m=\u001b[39;49mBASE_META_DATA, options\u001b[39m=\u001b[39;49moptions),\n\u001b[1;32m    522\u001b[0m )\n\u001b[1;32m    524\u001b[0m article_metadata_check_valid(result)\n\u001b[1;32m    526\u001b[0m \u001b[39m# FIXME this looks like it should be a constant\u001b[39;00m\n",
      "File \u001b[0;32m~/.pyenv/versions/3.11.4/envs/venv-data/lib/python3.11/site-packages/pynytimes/api.py:221\u001b[0m, in \u001b[0;36mNYTAPI.__load_data\u001b[0;34m(self, url, options, location)\u001b[0m\n\u001b[1;32m    217\u001b[0m params\u001b[39m.\u001b[39mupdate(options \u001b[39mor\u001b[39;00m {})  \u001b[39m# add empty list if None\u001b[39;00m\n\u001b[1;32m    219\u001b[0m \u001b[39m# Load the data from the API, raise error if there's an invalid status\u001b[39;00m\n\u001b[1;32m    220\u001b[0m \u001b[39m# code\u001b[39;00m\n\u001b[0;32m--> 221\u001b[0m res \u001b[39m=\u001b[39m \u001b[39mself\u001b[39;49m\u001b[39m.\u001b[39;49msession\u001b[39m.\u001b[39;49mget(\n\u001b[1;32m    222\u001b[0m     \u001b[39mf\u001b[39;49m\u001b[39m\"\u001b[39;49m\u001b[39m{\u001b[39;49;00m\u001b[39mself\u001b[39;49m\u001b[39m.\u001b[39;49mprotocol\u001b[39m}\u001b[39;49;00m\u001b[39m{\u001b[39;49;00murl\u001b[39m}\u001b[39;49;00m\u001b[39m\"\u001b[39;49m,\n\u001b[1;32m    223\u001b[0m     params\u001b[39m=\u001b[39;49mparams,\n\u001b[1;32m    224\u001b[0m     timeout\u001b[39m=\u001b[39;49mTIMEOUT,\n\u001b[1;32m    225\u001b[0m )\n\u001b[1;32m    227\u001b[0m raise_for_status(res)\n\u001b[1;32m    228\u001b[0m parsed_res: \u001b[39mdict\u001b[39m[\u001b[39mstr\u001b[39m, Any] \u001b[39m=\u001b[39m res\u001b[39m.\u001b[39mjson()\n",
      "File \u001b[0;32m~/.pyenv/versions/3.11.4/envs/venv-data/lib/python3.11/site-packages/requests/sessions.py:602\u001b[0m, in \u001b[0;36mSession.get\u001b[0;34m(self, url, **kwargs)\u001b[0m\n\u001b[1;32m    594\u001b[0m \u001b[39m\u001b[39m\u001b[39mr\u001b[39m\u001b[39m\"\"\"Sends a GET request. Returns :class:`Response` object.\u001b[39;00m\n\u001b[1;32m    595\u001b[0m \n\u001b[1;32m    596\u001b[0m \u001b[39m:param url: URL for the new :class:`Request` object.\u001b[39;00m\n\u001b[1;32m    597\u001b[0m \u001b[39m:param \\*\\*kwargs: Optional arguments that ``request`` takes.\u001b[39;00m\n\u001b[1;32m    598\u001b[0m \u001b[39m:rtype: requests.Response\u001b[39;00m\n\u001b[1;32m    599\u001b[0m \u001b[39m\"\"\"\u001b[39;00m\n\u001b[1;32m    601\u001b[0m kwargs\u001b[39m.\u001b[39msetdefault(\u001b[39m\"\u001b[39m\u001b[39mallow_redirects\u001b[39m\u001b[39m\"\u001b[39m, \u001b[39mTrue\u001b[39;00m)\n\u001b[0;32m--> 602\u001b[0m \u001b[39mreturn\u001b[39;00m \u001b[39mself\u001b[39;49m\u001b[39m.\u001b[39;49mrequest(\u001b[39m\"\u001b[39;49m\u001b[39mGET\u001b[39;49m\u001b[39m\"\u001b[39;49m, url, \u001b[39m*\u001b[39;49m\u001b[39m*\u001b[39;49mkwargs)\n",
      "File \u001b[0;32m~/.pyenv/versions/3.11.4/envs/venv-data/lib/python3.11/site-packages/requests/sessions.py:589\u001b[0m, in \u001b[0;36mSession.request\u001b[0;34m(self, method, url, params, data, headers, cookies, files, auth, timeout, allow_redirects, proxies, hooks, stream, verify, cert, json)\u001b[0m\n\u001b[1;32m    584\u001b[0m send_kwargs \u001b[39m=\u001b[39m {\n\u001b[1;32m    585\u001b[0m     \u001b[39m\"\u001b[39m\u001b[39mtimeout\u001b[39m\u001b[39m\"\u001b[39m: timeout,\n\u001b[1;32m    586\u001b[0m     \u001b[39m\"\u001b[39m\u001b[39mallow_redirects\u001b[39m\u001b[39m\"\u001b[39m: allow_redirects,\n\u001b[1;32m    587\u001b[0m }\n\u001b[1;32m    588\u001b[0m send_kwargs\u001b[39m.\u001b[39mupdate(settings)\n\u001b[0;32m--> 589\u001b[0m resp \u001b[39m=\u001b[39m \u001b[39mself\u001b[39;49m\u001b[39m.\u001b[39;49msend(prep, \u001b[39m*\u001b[39;49m\u001b[39m*\u001b[39;49msend_kwargs)\n\u001b[1;32m    591\u001b[0m \u001b[39mreturn\u001b[39;00m resp\n",
      "File \u001b[0;32m~/.pyenv/versions/3.11.4/envs/venv-data/lib/python3.11/site-packages/requests/sessions.py:703\u001b[0m, in \u001b[0;36mSession.send\u001b[0;34m(self, request, **kwargs)\u001b[0m\n\u001b[1;32m    700\u001b[0m start \u001b[39m=\u001b[39m preferred_clock()\n\u001b[1;32m    702\u001b[0m \u001b[39m# Send the request\u001b[39;00m\n\u001b[0;32m--> 703\u001b[0m r \u001b[39m=\u001b[39m adapter\u001b[39m.\u001b[39;49msend(request, \u001b[39m*\u001b[39;49m\u001b[39m*\u001b[39;49mkwargs)\n\u001b[1;32m    705\u001b[0m \u001b[39m# Total elapsed time of the request (approximately)\u001b[39;00m\n\u001b[1;32m    706\u001b[0m elapsed \u001b[39m=\u001b[39m preferred_clock() \u001b[39m-\u001b[39m start\n",
      "File \u001b[0;32m~/.pyenv/versions/3.11.4/envs/venv-data/lib/python3.11/site-packages/requests/adapters.py:486\u001b[0m, in \u001b[0;36mHTTPAdapter.send\u001b[0;34m(self, request, stream, timeout, verify, cert, proxies)\u001b[0m\n\u001b[1;32m    483\u001b[0m     timeout \u001b[39m=\u001b[39m TimeoutSauce(connect\u001b[39m=\u001b[39mtimeout, read\u001b[39m=\u001b[39mtimeout)\n\u001b[1;32m    485\u001b[0m \u001b[39mtry\u001b[39;00m:\n\u001b[0;32m--> 486\u001b[0m     resp \u001b[39m=\u001b[39m conn\u001b[39m.\u001b[39;49murlopen(\n\u001b[1;32m    487\u001b[0m         method\u001b[39m=\u001b[39;49mrequest\u001b[39m.\u001b[39;49mmethod,\n\u001b[1;32m    488\u001b[0m         url\u001b[39m=\u001b[39;49murl,\n\u001b[1;32m    489\u001b[0m         body\u001b[39m=\u001b[39;49mrequest\u001b[39m.\u001b[39;49mbody,\n\u001b[1;32m    490\u001b[0m         headers\u001b[39m=\u001b[39;49mrequest\u001b[39m.\u001b[39;49mheaders,\n\u001b[1;32m    491\u001b[0m         redirect\u001b[39m=\u001b[39;49m\u001b[39mFalse\u001b[39;49;00m,\n\u001b[1;32m    492\u001b[0m         assert_same_host\u001b[39m=\u001b[39;49m\u001b[39mFalse\u001b[39;49;00m,\n\u001b[1;32m    493\u001b[0m         preload_content\u001b[39m=\u001b[39;49m\u001b[39mFalse\u001b[39;49;00m,\n\u001b[1;32m    494\u001b[0m         decode_content\u001b[39m=\u001b[39;49m\u001b[39mFalse\u001b[39;49;00m,\n\u001b[1;32m    495\u001b[0m         retries\u001b[39m=\u001b[39;49m\u001b[39mself\u001b[39;49m\u001b[39m.\u001b[39;49mmax_retries,\n\u001b[1;32m    496\u001b[0m         timeout\u001b[39m=\u001b[39;49mtimeout,\n\u001b[1;32m    497\u001b[0m         chunked\u001b[39m=\u001b[39;49mchunked,\n\u001b[1;32m    498\u001b[0m     )\n\u001b[1;32m    500\u001b[0m \u001b[39mexcept\u001b[39;00m (ProtocolError, \u001b[39mOSError\u001b[39;00m) \u001b[39mas\u001b[39;00m err:\n\u001b[1;32m    501\u001b[0m     \u001b[39mraise\u001b[39;00m \u001b[39mConnectionError\u001b[39;00m(err, request\u001b[39m=\u001b[39mrequest)\n",
      "File \u001b[0;32m~/.pyenv/versions/3.11.4/envs/venv-data/lib/python3.11/site-packages/urllib3/connectionpool.py:941\u001b[0m, in \u001b[0;36mHTTPConnectionPool.urlopen\u001b[0;34m(self, method, url, body, headers, retries, redirect, assert_same_host, timeout, pool_timeout, release_conn, chunked, body_pos, preload_content, decode_content, **response_kw)\u001b[0m\n\u001b[1;32m    939\u001b[0m     retries\u001b[39m.\u001b[39msleep(response)\n\u001b[1;32m    940\u001b[0m     log\u001b[39m.\u001b[39mdebug(\u001b[39m\"\u001b[39m\u001b[39mRetry: \u001b[39m\u001b[39m%s\u001b[39;00m\u001b[39m\"\u001b[39m, url)\n\u001b[0;32m--> 941\u001b[0m     \u001b[39mreturn\u001b[39;00m \u001b[39mself\u001b[39;49m\u001b[39m.\u001b[39;49murlopen(\n\u001b[1;32m    942\u001b[0m         method,\n\u001b[1;32m    943\u001b[0m         url,\n\u001b[1;32m    944\u001b[0m         body,\n\u001b[1;32m    945\u001b[0m         headers,\n\u001b[1;32m    946\u001b[0m         retries\u001b[39m=\u001b[39;49mretries,\n\u001b[1;32m    947\u001b[0m         redirect\u001b[39m=\u001b[39;49mredirect,\n\u001b[1;32m    948\u001b[0m         assert_same_host\u001b[39m=\u001b[39;49massert_same_host,\n\u001b[1;32m    949\u001b[0m         timeout\u001b[39m=\u001b[39;49mtimeout,\n\u001b[1;32m    950\u001b[0m         pool_timeout\u001b[39m=\u001b[39;49mpool_timeout,\n\u001b[1;32m    951\u001b[0m         release_conn\u001b[39m=\u001b[39;49mrelease_conn,\n\u001b[1;32m    952\u001b[0m         chunked\u001b[39m=\u001b[39;49mchunked,\n\u001b[1;32m    953\u001b[0m         body_pos\u001b[39m=\u001b[39;49mbody_pos,\n\u001b[1;32m    954\u001b[0m         preload_content\u001b[39m=\u001b[39;49mpreload_content,\n\u001b[1;32m    955\u001b[0m         decode_content\u001b[39m=\u001b[39;49mdecode_content,\n\u001b[1;32m    956\u001b[0m         \u001b[39m*\u001b[39;49m\u001b[39m*\u001b[39;49mresponse_kw,\n\u001b[1;32m    957\u001b[0m     )\n\u001b[1;32m    959\u001b[0m \u001b[39mreturn\u001b[39;00m response\n",
      "File \u001b[0;32m~/.pyenv/versions/3.11.4/envs/venv-data/lib/python3.11/site-packages/urllib3/connectionpool.py:941\u001b[0m, in \u001b[0;36mHTTPConnectionPool.urlopen\u001b[0;34m(self, method, url, body, headers, retries, redirect, assert_same_host, timeout, pool_timeout, release_conn, chunked, body_pos, preload_content, decode_content, **response_kw)\u001b[0m\n\u001b[1;32m    939\u001b[0m     retries\u001b[39m.\u001b[39msleep(response)\n\u001b[1;32m    940\u001b[0m     log\u001b[39m.\u001b[39mdebug(\u001b[39m\"\u001b[39m\u001b[39mRetry: \u001b[39m\u001b[39m%s\u001b[39;00m\u001b[39m\"\u001b[39m, url)\n\u001b[0;32m--> 941\u001b[0m     \u001b[39mreturn\u001b[39;00m \u001b[39mself\u001b[39;49m\u001b[39m.\u001b[39;49murlopen(\n\u001b[1;32m    942\u001b[0m         method,\n\u001b[1;32m    943\u001b[0m         url,\n\u001b[1;32m    944\u001b[0m         body,\n\u001b[1;32m    945\u001b[0m         headers,\n\u001b[1;32m    946\u001b[0m         retries\u001b[39m=\u001b[39;49mretries,\n\u001b[1;32m    947\u001b[0m         redirect\u001b[39m=\u001b[39;49mredirect,\n\u001b[1;32m    948\u001b[0m         assert_same_host\u001b[39m=\u001b[39;49massert_same_host,\n\u001b[1;32m    949\u001b[0m         timeout\u001b[39m=\u001b[39;49mtimeout,\n\u001b[1;32m    950\u001b[0m         pool_timeout\u001b[39m=\u001b[39;49mpool_timeout,\n\u001b[1;32m    951\u001b[0m         release_conn\u001b[39m=\u001b[39;49mrelease_conn,\n\u001b[1;32m    952\u001b[0m         chunked\u001b[39m=\u001b[39;49mchunked,\n\u001b[1;32m    953\u001b[0m         body_pos\u001b[39m=\u001b[39;49mbody_pos,\n\u001b[1;32m    954\u001b[0m         preload_content\u001b[39m=\u001b[39;49mpreload_content,\n\u001b[1;32m    955\u001b[0m         decode_content\u001b[39m=\u001b[39;49mdecode_content,\n\u001b[1;32m    956\u001b[0m         \u001b[39m*\u001b[39;49m\u001b[39m*\u001b[39;49mresponse_kw,\n\u001b[1;32m    957\u001b[0m     )\n\u001b[1;32m    959\u001b[0m \u001b[39mreturn\u001b[39;00m response\n",
      "    \u001b[0;31m[... skipping similar frames: HTTPConnectionPool.urlopen at line 941 (4 times)]\u001b[0m\n",
      "File \u001b[0;32m~/.pyenv/versions/3.11.4/envs/venv-data/lib/python3.11/site-packages/urllib3/connectionpool.py:941\u001b[0m, in \u001b[0;36mHTTPConnectionPool.urlopen\u001b[0;34m(self, method, url, body, headers, retries, redirect, assert_same_host, timeout, pool_timeout, release_conn, chunked, body_pos, preload_content, decode_content, **response_kw)\u001b[0m\n\u001b[1;32m    939\u001b[0m     retries\u001b[39m.\u001b[39msleep(response)\n\u001b[1;32m    940\u001b[0m     log\u001b[39m.\u001b[39mdebug(\u001b[39m\"\u001b[39m\u001b[39mRetry: \u001b[39m\u001b[39m%s\u001b[39;00m\u001b[39m\"\u001b[39m, url)\n\u001b[0;32m--> 941\u001b[0m     \u001b[39mreturn\u001b[39;00m \u001b[39mself\u001b[39;49m\u001b[39m.\u001b[39;49murlopen(\n\u001b[1;32m    942\u001b[0m         method,\n\u001b[1;32m    943\u001b[0m         url,\n\u001b[1;32m    944\u001b[0m         body,\n\u001b[1;32m    945\u001b[0m         headers,\n\u001b[1;32m    946\u001b[0m         retries\u001b[39m=\u001b[39;49mretries,\n\u001b[1;32m    947\u001b[0m         redirect\u001b[39m=\u001b[39;49mredirect,\n\u001b[1;32m    948\u001b[0m         assert_same_host\u001b[39m=\u001b[39;49massert_same_host,\n\u001b[1;32m    949\u001b[0m         timeout\u001b[39m=\u001b[39;49mtimeout,\n\u001b[1;32m    950\u001b[0m         pool_timeout\u001b[39m=\u001b[39;49mpool_timeout,\n\u001b[1;32m    951\u001b[0m         release_conn\u001b[39m=\u001b[39;49mrelease_conn,\n\u001b[1;32m    952\u001b[0m         chunked\u001b[39m=\u001b[39;49mchunked,\n\u001b[1;32m    953\u001b[0m         body_pos\u001b[39m=\u001b[39;49mbody_pos,\n\u001b[1;32m    954\u001b[0m         preload_content\u001b[39m=\u001b[39;49mpreload_content,\n\u001b[1;32m    955\u001b[0m         decode_content\u001b[39m=\u001b[39;49mdecode_content,\n\u001b[1;32m    956\u001b[0m         \u001b[39m*\u001b[39;49m\u001b[39m*\u001b[39;49mresponse_kw,\n\u001b[1;32m    957\u001b[0m     )\n\u001b[1;32m    959\u001b[0m \u001b[39mreturn\u001b[39;00m response\n",
      "File \u001b[0;32m~/.pyenv/versions/3.11.4/envs/venv-data/lib/python3.11/site-packages/urllib3/connectionpool.py:939\u001b[0m, in \u001b[0;36mHTTPConnectionPool.urlopen\u001b[0;34m(self, method, url, body, headers, retries, redirect, assert_same_host, timeout, pool_timeout, release_conn, chunked, body_pos, preload_content, decode_content, **response_kw)\u001b[0m\n\u001b[1;32m    936\u001b[0m     \u001b[39mreturn\u001b[39;00m response\n\u001b[1;32m    938\u001b[0m response\u001b[39m.\u001b[39mdrain_conn()\n\u001b[0;32m--> 939\u001b[0m retries\u001b[39m.\u001b[39;49msleep(response)\n\u001b[1;32m    940\u001b[0m log\u001b[39m.\u001b[39mdebug(\u001b[39m\"\u001b[39m\u001b[39mRetry: \u001b[39m\u001b[39m%s\u001b[39;00m\u001b[39m\"\u001b[39m, url)\n\u001b[1;32m    941\u001b[0m \u001b[39mreturn\u001b[39;00m \u001b[39mself\u001b[39m\u001b[39m.\u001b[39murlopen(\n\u001b[1;32m    942\u001b[0m     method,\n\u001b[1;32m    943\u001b[0m     url,\n\u001b[0;32m   (...)\u001b[0m\n\u001b[1;32m    956\u001b[0m     \u001b[39m*\u001b[39m\u001b[39m*\u001b[39mresponse_kw,\n\u001b[1;32m    957\u001b[0m )\n",
      "File \u001b[0;32m~/.pyenv/versions/3.11.4/envs/venv-data/lib/python3.11/site-packages/urllib3/util/retry.py:359\u001b[0m, in \u001b[0;36mRetry.sleep\u001b[0;34m(self, response)\u001b[0m\n\u001b[1;32m    356\u001b[0m     \u001b[39mif\u001b[39;00m slept:\n\u001b[1;32m    357\u001b[0m         \u001b[39mreturn\u001b[39;00m\n\u001b[0;32m--> 359\u001b[0m \u001b[39mself\u001b[39;49m\u001b[39m.\u001b[39;49m_sleep_backoff()\n",
      "File \u001b[0;32m~/.pyenv/versions/3.11.4/envs/venv-data/lib/python3.11/site-packages/urllib3/util/retry.py:343\u001b[0m, in \u001b[0;36mRetry._sleep_backoff\u001b[0;34m(self)\u001b[0m\n\u001b[1;32m    341\u001b[0m \u001b[39mif\u001b[39;00m backoff \u001b[39m<\u001b[39m\u001b[39m=\u001b[39m \u001b[39m0\u001b[39m:\n\u001b[1;32m    342\u001b[0m     \u001b[39mreturn\u001b[39;00m\n\u001b[0;32m--> 343\u001b[0m time\u001b[39m.\u001b[39msleep(backoff)\n",
      "\u001b[0;31mKeyboardInterrupt\u001b[0m: "
     ]
    }
   ],
   "source": [
    "# query[0]['headline']['main']\n",
    "url = query[0]['web_url']\n",
    "\n",
    "metadata = nyt.article_metadata(url)\n",
    "metadata"
   ]
  },
  {
   "cell_type": "code",
   "execution_count": null,
   "metadata": {},
   "outputs": [
    {
     "ename": "AttributeError",
     "evalue": "'dict' object has no attribute 'title'",
     "output_type": "error",
     "traceback": [
      "\u001b[0;31m---------------------------------------------------------------------------\u001b[0m",
      "\u001b[0;31mAttributeError\u001b[0m                            Traceback (most recent call last)",
      "Cell \u001b[0;32mIn[17], line 2\u001b[0m\n\u001b[1;32m      1\u001b[0m \u001b[39mfor\u001b[39;00m article \u001b[39min\u001b[39;00m query:\n\u001b[0;32m----> 2\u001b[0m     \u001b[39mif\u001b[39;00m article\u001b[39m.\u001b[39;49mtitle \u001b[39m==\u001b[39m article_title:\n\u001b[1;32m      3\u001b[0m         article_contents \u001b[39m=\u001b[39m article\u001b[39m.\u001b[39mabstract\n",
      "\u001b[0;31mAttributeError\u001b[0m: 'dict' object has no attribute 'title'"
     ]
    }
   ],
   "source": [
    "for article in query:\n",
    "    if article.title == article_title:\n",
    "        article_contents = article.abstract"
   ]
  },
  {
   "cell_type": "code",
   "execution_count": null,
   "metadata": {},
   "outputs": [],
   "source": []
  }
 ],
 "metadata": {
  "kernelspec": {
   "display_name": "venv-data",
   "language": "python",
   "name": "python3"
  },
  "language_info": {
   "codemirror_mode": {
    "name": "ipython",
    "version": 3
   },
   "file_extension": ".py",
   "mimetype": "text/x-python",
   "name": "python",
   "nbconvert_exporter": "python",
   "pygments_lexer": "ipython3",
   "version": "3.11.4"
  },
  "orig_nbformat": 4
 },
 "nbformat": 4,
 "nbformat_minor": 2
}
